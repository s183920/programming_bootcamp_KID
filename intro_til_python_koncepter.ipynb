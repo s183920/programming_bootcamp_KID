{
 "cells": [
  {
   "cell_type": "markdown",
   "metadata": {},
   "source": [
    "# Intro til Python koncepter for KID"
   ]
  },
  {
   "cell_type": "markdown",
   "metadata": {},
   "source": [
    "## Variabler"
   ]
  },
  {
   "cell_type": "markdown",
   "metadata": {},
   "source": [
    "- Holder styr på en værdi\n",
    "- Kan ændres gennem programmet\n",
    "- Kan ændres hver gang programmet kører"
   ]
  },
  {
   "cell_type": "code",
   "execution_count": null,
   "metadata": {},
   "outputs": [],
   "source": [
    "navn = \"Lukas\"\n",
    "print(navn)"
   ]
  },
  {
   "cell_type": "code",
   "execution_count": null,
   "metadata": {},
   "outputs": [],
   "source": [
    "navn = \"Peter\"\n",
    "print(navn)"
   ]
  },
  {
   "cell_type": "markdown",
   "metadata": {},
   "source": [
    "## Data typer"
   ]
  },
  {
   "cell_type": "markdown",
   "metadata": {},
   "source": [
    "- Den værdi som er gemt i en variabel kan være af forskellige typer\n",
    "- Nogle almindelige data typer er\n",
    "    - `int` (heltal)\n",
    "    - `float` (decimaltal)\n",
    "    - `str` (tekst)\n",
    "    - `bool` (sandhedsværdi, kan være `True` eller `False`)\n",
    "- En variabels datatype kan findes med `type()` funktionen"
   ]
  },
  {
   "cell_type": "code",
   "execution_count": null,
   "metadata": {},
   "outputs": [],
   "source": [
    "x = 4\n",
    "print(type(x))"
   ]
  },
  {
   "cell_type": "code",
   "execution_count": null,
   "metadata": {},
   "outputs": [],
   "source": [
    "x = 4.2\n",
    "print(type(x))"
   ]
  },
  {
   "cell_type": "code",
   "execution_count": null,
   "metadata": {},
   "outputs": [],
   "source": [
    "x = 10.\n",
    "print(type(x))"
   ]
  },
  {
   "cell_type": "code",
   "execution_count": null,
   "metadata": {},
   "outputs": [],
   "source": [
    "x = \"Hej\"\n",
    "print(type(x))"
   ]
  },
  {
   "cell_type": "code",
   "execution_count": null,
   "metadata": {},
   "outputs": [],
   "source": [
    "x = \"10\"\n",
    "print(type(x))"
   ]
  },
  {
   "cell_type": "code",
   "execution_count": null,
   "metadata": {},
   "outputs": [],
   "source": [
    "x = True\n",
    "print(type(x))"
   ]
  },
  {
   "cell_type": "markdown",
   "metadata": {},
   "source": [
    "### Konvertering af datatyper\n",
    "\n",
    "- Nogle værdier kan konverteres til andre datatyper\n",
    "- Ændring af datatyper sker ved at bruge datatypens navn som funktion\n",
    "    - `int()` konverterer til heltal\n",
    "    - `float()` konverterer til decimaltal\n",
    "    - `str()` konverterer til tekst\n",
    "    - `bool()` konverterer til sandt/falsk"
   ]
  },
  {
   "cell_type": "code",
   "execution_count": null,
   "metadata": {},
   "outputs": [],
   "source": [
    "x = 6.8\n",
    "print(x)"
   ]
  },
  {
   "cell_type": "code",
   "execution_count": null,
   "metadata": {},
   "outputs": [],
   "source": [
    "x = int(x)\n",
    "print(x)"
   ]
  },
  {
   "cell_type": "code",
   "execution_count": null,
   "metadata": {},
   "outputs": [],
   "source": [
    "x = x + 0.1\n",
    "print(x)"
   ]
  },
  {
   "cell_type": "code",
   "execution_count": null,
   "metadata": {},
   "outputs": [],
   "source": [
    "x = str(x)\n",
    "x2 = str(5)\n",
    "x = x + x2\n",
    "print(x)"
   ]
  },
  {
   "cell_type": "code",
   "execution_count": null,
   "metadata": {},
   "outputs": [],
   "source": [
    "x = float(x)\n",
    "x = x + True\n",
    "print(x)"
   ]
  },
  {
   "cell_type": "markdown",
   "metadata": {},
   "source": [
    "## Datastrukturer"
   ]
  },
  {
   "cell_type": "markdown",
   "metadata": {},
   "source": [
    "- Datastrukturer er en type variabel som kan indeholde flere værdier.\n",
    "- Værdierne ordnes afhængigt af hvilken datastruktur der er tale om.\n",
    "- Nogle almindelige datastrukturer er:\n",
    "    - List (ordner værdierne efter deres placering i listen)\n",
    "    - Dictionary (ordner værdierne efter deres nøgle, her er der kun en af hver nøgle)\n"
   ]
  },
  {
   "cell_type": "markdown",
   "metadata": {},
   "source": [
    "### Lister"
   ]
  },
  {
   "cell_type": "markdown",
   "metadata": {},
   "source": [
    "- Laves med klammer []\n"
   ]
  },
  {
   "cell_type": "code",
   "execution_count": null,
   "metadata": {},
   "outputs": [],
   "source": [
    "liste = [1, 2, 3]\n",
    "print(liste)"
   ]
  },
  {
   "cell_type": "markdown",
   "metadata": {},
   "source": [
    "Lad os tjekke hvilken type en liste er"
   ]
  },
  {
   "cell_type": "code",
   "execution_count": null,
   "metadata": {},
   "outputs": [],
   "source": [
    "type(liste)"
   ]
  },
  {
   "cell_type": "markdown",
   "metadata": {},
   "source": [
    "En liste kan indeholde variabler"
   ]
  },
  {
   "cell_type": "code",
   "execution_count": null,
   "metadata": {},
   "outputs": [],
   "source": [
    "x = \"æble\"\n",
    "x2 = \"pære\"\n",
    "x3 = \"banan\"\n",
    "\n",
    "liste = [x, x2, x3]\n",
    "print(liste)"
   ]
  },
  {
   "cell_type": "markdown",
   "metadata": {},
   "source": [
    "Elementer i lister kan tilgås ved at bruge indeksering. Indeksering starter ved 0."
   ]
  },
  {
   "cell_type": "code",
   "execution_count": null,
   "metadata": {},
   "outputs": [],
   "source": [
    "y = liste[2]\n",
    "print(y)"
   ]
  },
  {
   "cell_type": "markdown",
   "metadata": {},
   "source": [
    "Indeksering kan også ske baglæns. Her har bagerste element indeks -1, næstbagerste -2 osv."
   ]
  },
  {
   "cell_type": "code",
   "execution_count": null,
   "metadata": {},
   "outputs": [],
   "source": [
    "print(liste[-1])"
   ]
  },
  {
   "cell_type": "markdown",
   "metadata": {},
   "source": [
    "Vi kan også tilgå flere elementer, et såkaldt subset"
   ]
  },
  {
   "cell_type": "code",
   "execution_count": null,
   "metadata": {},
   "outputs": [],
   "source": [
    "print(liste[0:2])"
   ]
  },
  {
   "cell_type": "markdown",
   "metadata": {},
   "source": [
    "### Dictionaries"
   ]
  },
  {
   "cell_type": "markdown",
   "metadata": {},
   "source": [
    "- Laves med {key:value}, hvor key er unik og value er værdien"
   ]
  },
  {
   "cell_type": "code",
   "execution_count": null,
   "metadata": {},
   "outputs": [],
   "source": [
    "dictionary = {1 : \"a\", 2 : \"b\", 3 : \"c\"}\n",
    "print(dictionary[1])"
   ]
  },
  {
   "cell_type": "code",
   "execution_count": null,
   "metadata": {},
   "outputs": [],
   "source": [
    "dictionary = {\"navn\" : \"Lukas\", \"alder\" : 25}\n",
    "print(dictionary[\"navn\"] + \" er \" + str(dictionary[\"alder\"]) + \" år gammel\")"
   ]
  },
  {
   "cell_type": "code",
   "execution_count": null,
   "metadata": {},
   "outputs": [],
   "source": [
    "dictionary = {\"frugter\" : [\"æbler\", \"bananer\", \"pærer\"], \"antal\" : [3, 5, 2], \"farver\" : [\"rød\", \"gul\", \"grøn\"]}\n",
    "\n",
    "print(\"Jeg har \" + str(dictionary[\"antal\"][0]) + \" \" + dictionary[\"frugter\"][0] + \" som har farven \" + dictionary[\"farver\"][0] + \".\")"
   ]
  },
  {
   "cell_type": "markdown",
   "metadata": {},
   "source": [
    "## Conditional statements"
   ]
  },
  {
   "cell_type": "markdown",
   "metadata": {},
   "source": [
    "- Conditional statements bruges til at udføre kode, hvis en betingelse er opfyldt.\n",
    "- Betingelserne kan være sammenligninger, der evalueres til True eller False.\n",
    "- Betingelser kan kombineres med logiske operatorer, såsom and, or og not.\n",
    "- Betingelserne bruges sammen med if, elif og else nøgleordene."
   ]
  },
  {
   "cell_type": "code",
   "execution_count": null,
   "metadata": {},
   "outputs": [],
   "source": [
    "indkøbsliste = [\"æg\", \"mælk\", \"mel\", \"sukker\"]\n",
    "dag = \"torsdag\"\n",
    "\n",
    "if dag == \"mandag\":\n",
    "    indkøbsliste.append(\"kaffe\")\n",
    "elif dag == \"tirsdag\":\n",
    "    indkøbsliste.append(\"rugbrød\")\n",
    "elif dag == \"onsdag\" or dag == \"torsdag\":\n",
    "    indkøbsliste.append(\"pålæg\")\n",
    "else:\n",
    "    indkøbsliste.append(\"is\")\n",
    "    \n",
    "print(indkøbsliste)\n",
    "    "
   ]
  },
  {
   "cell_type": "markdown",
   "metadata": {},
   "source": [
    "## Loops og control flow statements"
   ]
  },
  {
   "cell_type": "markdown",
   "metadata": {},
   "source": [
    "- På dag 1 hørte vi om `for` og `while` loops\n",
    "- Control flow statements er en måde at styre hvilken kode der bliver kørt\n",
    "- Nogle almindelige control flow statements er:\n",
    "    - `break` (stopper loopet)\n",
    "    - `continue` (springer til næste iteration)\n",
    "    - `pass` (gør ingenting)"
   ]
  },
  {
   "cell_type": "code",
   "execution_count": null,
   "metadata": {},
   "outputs": [],
   "source": [
    "for i in range(5):\n",
    "    print(\"Start på iteration\", i)\n",
    "    if i == 3:\n",
    "        break\n",
    "    elif i == 1:\n",
    "        continue\n",
    "    else:\n",
    "        pass\n",
    "    print(\"Slut på iteration\", i)\n",
    "    "
   ]
  },
  {
   "cell_type": "markdown",
   "metadata": {},
   "source": [
    "I stedet for a loope over en tæller kan vi også loope over en liste af værdier"
   ]
  },
  {
   "cell_type": "code",
   "execution_count": null,
   "metadata": {},
   "outputs": [],
   "source": [
    "indkøbsliste = [\"æg\", \"mælk\", \"mel\", \"sukker\"]\n",
    "\n",
    "for vare in indkøbsliste:\n",
    "    print(vare)"
   ]
  },
  {
   "cell_type": "markdown",
   "metadata": {},
   "source": [
    "Eller vi kan kombinere de to metoder med `enumerate`"
   ]
  },
  {
   "cell_type": "code",
   "execution_count": null,
   "metadata": {},
   "outputs": [],
   "source": [
    "for i, vare in enumerate(['æbler', 'bananer', 'pærer']):\n",
    "    print(\"vare \" + str(i) + \" er \" + vare)"
   ]
  },
  {
   "cell_type": "markdown",
   "metadata": {},
   "source": [
    "## Funktioner"
   ]
  },
  {
   "cell_type": "markdown",
   "metadata": {},
   "source": [
    "- Samler en kode blok i en funktion\n",
    "- Gør det muligt at genbruge kode\n",
    "- Gør det muligt at give kode et sigende navn\n",
    "- Tager et eller flere argumenter og returnerer et resultat"
   ]
  },
  {
   "cell_type": "code",
   "execution_count": null,
   "metadata": {},
   "outputs": [],
   "source": [
    "def cirkel_areal(radius):\n",
    "    areal = 3.14 * radius ** 2\n",
    "    return areal\n",
    "\n",
    "print(\"Arealet af en cirkel med radius 2 er: \", cirkel_areal(2))"
   ]
  },
  {
   "cell_type": "markdown",
   "metadata": {},
   "source": [
    "Det er også muligt at tilføje argumenter som har en standard værdi"
   ]
  },
  {
   "cell_type": "code",
   "execution_count": null,
   "metadata": {},
   "outputs": [],
   "source": [
    "def areal(radius, objekt = \"cirkel\"):\n",
    "    if objekt == \"cirkel\":\n",
    "        areal = 3.14 * radius**2\n",
    "    elif objekt == \"kvadrat\":\n",
    "        areal = (2*radius)**2\n",
    "    else:\n",
    "        print(\"Ukendt objekt\")\n",
    "        \n",
    "    return areal\n",
    "\n",
    "print(areal(2, \"cirkel\"))\n",
    "print(areal(2, \"kvadrat\"))"
   ]
  },
  {
   "cell_type": "markdown",
   "metadata": {},
   "source": [
    "## Moduler"
   ]
  },
  {
   "cell_type": "markdown",
   "metadata": {},
   "source": [
    "- Moduler indeholder funktioner og anden kode som andre har skrevet, som vi kan bruge i vores kode.\n",
    "- Fx. indeholder math modulet en masse matematiske funktioner\n",
    "- Vi får adgang til modulet ved at importere det"
   ]
  },
  {
   "cell_type": "code",
   "execution_count": null,
   "metadata": {},
   "outputs": [],
   "source": [
    "import math\n",
    "\n",
    "def cirkel_areal(radius):\n",
    "    return math.pi * math.pow(radius, 2)"
   ]
  },
  {
   "cell_type": "markdown",
   "metadata": {},
   "source": [
    "Vha. moduler kan vi importere kode fra andre filer. Dette er en måde at genbruge kode på."
   ]
  },
  {
   "cell_type": "code",
   "execution_count": null,
   "metadata": {},
   "outputs": [],
   "source": [
    "import hilsner\n",
    "hilsner.hello(\"Rasmus\")"
   ]
  },
  {
   "cell_type": "markdown",
   "metadata": {},
   "source": [
    "Da vi ikke bruger alle funktioner fra vores hilsner fil, kan vi nøjees med at importere hello.\n",
    "Læg mærke til at vi nu ikke behøver skrive hilsner foran."
   ]
  },
  {
   "cell_type": "code",
   "execution_count": null,
   "metadata": {},
   "outputs": [],
   "source": [
    "from hilsner import hello\n",
    "hello(\"Rasmus\")"
   ]
  },
  {
   "cell_type": "markdown",
   "metadata": {},
   "source": [
    "Vi kan også give den importeret funktion et kaldenavn"
   ]
  },
  {
   "cell_type": "code",
   "execution_count": null,
   "metadata": {},
   "outputs": [],
   "source": [
    "from hilsner import hello as hej\n",
    "hej(\"Rasmus\")"
   ]
  },
  {
   "cell_type": "markdown",
   "metadata": {},
   "source": [
    "## Biblioteker"
   ]
  },
  {
   "cell_type": "markdown",
   "metadata": {},
   "source": [
    "- Biblioteker er moduler som er udviklet af en tredjepart\n",
    "- Biblioteker skal installeres vha. pip eller conda før de kan tilgås\n",
    "- Er ofte udviklet til at løse et specifikt problem og kan derfor tit være mere effektive end den kode man selv skriver\n",
    "- [emoji-pakken](https://pypi.org/project/emoji/) tilføjer emojis til Python"
   ]
  },
  {
   "cell_type": "code",
   "execution_count": null,
   "metadata": {},
   "outputs": [],
   "source": [
    "import emoji\n",
    "print(emoji.emojize('Python is :thumbs_up:'))"
   ]
  },
  {
   "cell_type": "markdown",
   "metadata": {},
   "source": [
    "## Objekt-orienteeret programmering"
   ]
  }
 ],
 "metadata": {
  "kernelspec": {
   "display_name": "kid_prog_env",
   "language": "python",
   "name": "python3"
  },
  "language_info": {
   "codemirror_mode": {
    "name": "ipython",
    "version": 3
   },
   "file_extension": ".py",
   "mimetype": "text/x-python",
   "name": "python",
   "nbconvert_exporter": "python",
   "pygments_lexer": "ipython3",
   "version": "3.9.6"
  },
  "orig_nbformat": 4
 },
 "nbformat": 4,
 "nbformat_minor": 2
}
